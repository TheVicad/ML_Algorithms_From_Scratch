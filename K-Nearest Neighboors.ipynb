{
 "cells": [
  {
   "cell_type": "code",
   "execution_count": 3,
   "id": "a57473eb-2f8a-478f-8f9e-042be96d5208",
   "metadata": {
    "tags": []
   },
   "outputs": [],
   "source": [
    "from scipy.spatial.distance import euclidean\n",
    "import numpy as np\n",
    "from scipy import stats as st\n",
    "\n",
    "from sklearn.neighbors import KNeighborsClassifier, KNeighborsRegressor\n",
    "from sklearn.metrics import mean_squared_error, accuracy_score\n",
    "from sklearn.datasets import make_classification, make_regression\n",
    "from sklearn.model_selection import train_test_split\n",
    "\n",
    "from abc import ABC, abstractmethod\n",
    "from collections import defaultdict"
   ]
  },
  {
   "cell_type": "markdown",
   "id": "0961174d-2cf2-459e-a5f4-1fefaf504567",
   "metadata": {},
   "source": [
    "# k-Nearest Neighbors Algorithm"
   ]
  },
  {
   "cell_type": "markdown",
   "id": "a7599a73-5b79-4d78-aad5-f14e4db75947",
   "metadata": {},
   "source": [
    "Для каждого наблюдения $x_{test} \\in X_{test}$:\n",
    "1. Рассчитать дистанцию $d$ до каждой точки в наборе данных $x_{train_{ij}}, \\ i=1,...,N; \\ j=1,...,P$\n",
    "2. Определить значения $y_{train}$ для $k$ ближайших точек на основе $d$\n",
    "3. Для регрессии предсказать значение $y_{test}$ как среднее значение $y_{train}$, для классификации как моду"
   ]
  },
  {
   "cell_type": "markdown",
   "id": "fd300dc1-d9d7-43cc-99a2-f7aba17fe5e8",
   "metadata": {},
   "source": [
    "# Implementation"
   ]
  },
  {
   "cell_type": "code",
   "execution_count": 7,
   "id": "f449131b-56d4-4ca8-93e5-7d94db106517",
   "metadata": {
    "tags": []
   },
   "outputs": [],
   "source": [
    "class BasekNNEstimator(ABC):\n",
    "    '''\n",
    "    Базовый класс для алгоритма k-ближайших соседей\n",
    "    '''\n",
    "    \n",
    "    def __init__(\n",
    "        self, \n",
    "        k: int = 3,\n",
    "        distance_func: callable = euclidean,\n",
    "        weights: str = 'uniform'\n",
    "    ) -> None:\n",
    "        self.k = k\n",
    "        self.distance = distance_func\n",
    "        self.weights = weights\n",
    "    \n",
    "    def fit(self, X: np.array, y: np.array) -> None:\n",
    "        self._X = X\n",
    "        self._y = y\n",
    "        \n",
    "    @abstractmethod\n",
    "    def _get_prediction(self, x_query: np.array) -> float:\n",
    "        '''\n",
    "        Возвращает предсказание для наблюдения на основании целевой переменной его ближайших соседей в обучающей выборке\n",
    "        '''\n",
    "        pass\n",
    "    \n",
    "    def _get_weights(self, nearest_neigbors: np.array) -> list[tuple]:\n",
    "        '''\n",
    "        Возвращает вес и целевую пременную ближайших соседей\n",
    "        '''\n",
    "        if self.weights == 'uniform':\n",
    "            return [(1, y_train) for distance, y_train in nearest_neigbors]\n",
    "        if self.weights == 'distance':\n",
    "            return [(1/(distance+1e-9), y_train) for distance, y_train in nearest_neigbors]\n",
    "        \n",
    "    def predict(self, X: np.array) -> np.array:\n",
    "        predictions = []\n",
    "        for x_query in X:\n",
    "            predictions.append(self._get_prediction(x_query))      \n",
    "        return np.array(predictions)"
   ]
  },
  {
   "cell_type": "code",
   "execution_count": 8,
   "id": "e98b6bd5-7d21-49bf-8184-d0ee7dea5342",
   "metadata": {
    "tags": []
   },
   "outputs": [],
   "source": [
    "class kNNClassifier(BasekNNEstimator):\n",
    "    \n",
    "    def _get_prediction(self, x_query: np.array) -> int:\n",
    "        distances = sorted([(self.distance(x_train, x_query), y_train) for x_train, y_train in zip(self._X, self._y)])\n",
    "        k_neighbors = distances[:self.k]\n",
    "        weights = self._get_weights(k_neighbors)\n",
    "        weights_by_class = defaultdict(list)\n",
    "        for weight, _class in weights:\n",
    "            weights_by_class[_class].append(weight)\n",
    "        class_votes = [(sum(weights), _class) for _class, weights in weights_by_class.items()]\n",
    "        return max(class_votes)[1]      "
   ]
  },
  {
   "cell_type": "code",
   "execution_count": 9,
   "id": "5bac6c36-ede5-4cf4-af18-84bdfb9d0bec",
   "metadata": {
    "tags": []
   },
   "outputs": [],
   "source": [
    "class kNNRegressor(BasekNNEstimator):\n",
    "\n",
    "    def _get_prediction(self, x_query: np.array) -> float:\n",
    "        distances = sorted([(self.distance(x_train, x_query), y_train) for x_train, y_train in zip(self._X, self._y)])\n",
    "        k_neighbors = distances[:self.k]\n",
    "        weights = np.array(self._get_weights(k_neighbors))\n",
    "        return np.sum((weights[:, 0] * weights[:, 1])) / np.sum(weights[:, 0])"
   ]
  },
  {
   "cell_type": "code",
   "execution_count": 10,
   "id": "f4da291a-895b-417c-becc-b8a02288b595",
   "metadata": {
    "tags": []
   },
   "outputs": [],
   "source": [
    "X, y = make_classification(n_samples=1000, n_features=6, n_informative=3, n_classes=2, flip_y=0.2, random_state=42)\n",
    "X_train, X_test, y_train, y_test = train_test_split(X, y, test_size=0.2, random_state=42)"
   ]
  },
  {
   "cell_type": "code",
   "execution_count": 11,
   "id": "8feff84b-a486-4be7-b9ab-7d741755be0c",
   "metadata": {
    "tags": []
   },
   "outputs": [
    {
     "name": "stdout",
     "output_type": "stream",
     "text": [
      "custom accuracy score: 0.83\n",
      "sklearn accuracy score: 0.83\n"
     ]
    }
   ],
   "source": [
    "model_custom = kNNClassifier(k=3)\n",
    "model_sklearn = KNeighborsClassifier(n_neighbors=3)\n",
    "model_custom.fit(X_train, y_train)\n",
    "model_sklearn.fit(X_train, y_train)\n",
    "\n",
    "custom_pred = model_custom.predict(X_test)\n",
    "sklearn_pred = model_sklearn.predict(X_test)\n",
    "\n",
    "print(f'custom accuracy score: {accuracy_score(y_test, custom_pred).round(3)}')\n",
    "print(f'sklearn accuracy score: {accuracy_score(y_test, sklearn_pred).round(3)}')"
   ]
  },
  {
   "cell_type": "code",
   "execution_count": 12,
   "id": "b055a696-093c-4e4f-9936-0bffc0c847ac",
   "metadata": {
    "tags": []
   },
   "outputs": [
    {
     "name": "stdout",
     "output_type": "stream",
     "text": [
      "custom accuracy score: 0.87\n",
      "sklearn accuracy score: 0.87\n"
     ]
    }
   ],
   "source": [
    "model_custom = kNNClassifier(k=17, weights='distance')\n",
    "model_sklearn = KNeighborsClassifier(n_neighbors=17, weights='distance')\n",
    "model_custom.fit(X_train, y_train)\n",
    "model_sklearn.fit(X_train, y_train)\n",
    "\n",
    "custom_pred = model_custom.predict(X_test)\n",
    "sklearn_pred = model_sklearn.predict(X_test)\n",
    "\n",
    "print(f'custom accuracy score: {accuracy_score(y_test, custom_pred).round(3)}')\n",
    "print(f'sklearn accuracy score: {accuracy_score(y_test, sklearn_pred).round(3)}')"
   ]
  },
  {
   "cell_type": "code",
   "execution_count": 13,
   "id": "9bf4dfe6-aab7-4264-9af3-aca9edf28b50",
   "metadata": {
    "tags": []
   },
   "outputs": [],
   "source": [
    "X, y = make_regression(n_samples=1000, n_features=5, n_informative=4, noise=20, random_state=69)\n",
    "X_train, X_test, y_train, y_test = train_test_split(X, y, test_size=0.2, random_state=69)"
   ]
  },
  {
   "cell_type": "code",
   "execution_count": 14,
   "id": "acdff565-5e50-4767-b3e7-0b21bd9daea9",
   "metadata": {
    "tags": []
   },
   "outputs": [
    {
     "name": "stdout",
     "output_type": "stream",
     "text": [
      "custom accuracy score: 2351.277\n",
      "sklearn accuracy score: 2351.277\n"
     ]
    }
   ],
   "source": [
    "model_custom = kNNRegressor(k=3)\n",
    "model_sklearn = KNeighborsRegressor(n_neighbors=3)\n",
    "model_custom.fit(X_train, y_train)\n",
    "model_sklearn.fit(X_train, y_train)\n",
    "\n",
    "custom_pred = model_custom.predict(X_test)\n",
    "sklearn_pred = model_sklearn.predict(X_test)\n",
    "\n",
    "print(f'custom accuracy score: {mean_squared_error(y_test, custom_pred).round(3)}')\n",
    "print(f'sklearn accuracy score: {mean_squared_error(y_test, sklearn_pred).round(3)}')"
   ]
  },
  {
   "cell_type": "code",
   "execution_count": 15,
   "id": "fe9584dc-b1da-4c3f-a69b-4cd0e50f7dd9",
   "metadata": {
    "tags": []
   },
   "outputs": [
    {
     "name": "stdout",
     "output_type": "stream",
     "text": [
      "custom accuracy score: 1988.318\n",
      "sklearn accuracy score: 1988.318\n"
     ]
    }
   ],
   "source": [
    "model_custom = kNNRegressor(k=5, weights='distance')\n",
    "model_sklearn = KNeighborsRegressor(n_neighbors=5, weights='distance')\n",
    "model_custom.fit(X_train, y_train)\n",
    "model_sklearn.fit(X_train, y_train)\n",
    "\n",
    "custom_pred = model_custom.predict(X_test)\n",
    "sklearn_pred = model_sklearn.predict(X_test)\n",
    "\n",
    "print(f'custom accuracy score: {mean_squared_error(y_test, custom_pred).round(3)}')\n",
    "print(f'sklearn accuracy score: {mean_squared_error(y_test, sklearn_pred).round(3)}')"
   ]
  }
 ],
 "metadata": {
  "kernelspec": {
   "display_name": "Python 3 (ipykernel)",
   "language": "python",
   "name": "python3"
  },
  "language_info": {
   "codemirror_mode": {
    "name": "ipython",
    "version": 3
   },
   "file_extension": ".py",
   "mimetype": "text/x-python",
   "name": "python",
   "nbconvert_exporter": "python",
   "pygments_lexer": "ipython3",
   "version": "3.11.7"
  }
 },
 "nbformat": 4,
 "nbformat_minor": 5
}
